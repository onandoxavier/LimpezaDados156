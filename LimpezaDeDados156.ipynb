{
 "cells": [
  {
   "cell_type": "markdown",
   "metadata": {},
   "source": [
    "Limpeza dados do 156"
   ]
  },
  {
   "cell_type": "code",
   "execution_count": 1,
   "metadata": {},
   "outputs": [],
   "source": [
    "#importing libraries\n",
    "import pandas as pd\n",
    "import requests\n",
    "import re\n",
    "import urllib.parse\n",
    "from unidecode import unidecode\n",
    "\n",
    "%matplotlib inline\n",
    "\n",
    "df_ceps = pd.read_csv('ceps_curitiba.csv', sep=';')"
   ]
  },
  {
   "cell_type": "code",
   "execution_count": 382,
   "metadata": {},
   "outputs": [
    {
     "name": "stdout",
     "output_type": "stream",
     "text": [
      "<class 'pandas.core.frame.DataFrame'>\n",
      "Index: 0 entries\n",
      "Data columns (total 23 columns):\n",
      " #   Column            Non-Null Count  Dtype \n",
      "---  ------            --------------  ----- \n",
      " 0   SOLICITACAO       0 non-null      object\n",
      " 1   TIPO              0 non-null      object\n",
      " 2   ORGAO             0 non-null      object\n",
      " 3   DATA_ASS          0 non-null      object\n",
      " 4   HORARIO           0 non-null      object\n",
      " 5   ASSUNTO           0 non-null      object\n",
      " 6   SUBDIVISAO        0 non-null      object\n",
      " 7   DESCRICAO         0 non-null      object\n",
      " 8   LOGRADOURO_ASS    0 non-null      object\n",
      " 9   CEP_ASS           0 non-null      object\n",
      " 10  NUMERO_ASS        0 non-null      object\n",
      " 11  BAIRRO_ASS        0 non-null      object\n",
      " 12  REGIONAL_ASS      0 non-null      object\n",
      " 13  MEIO_RESPOSTA     0 non-null      object\n",
      " 14  OBSERVACAO        0 non-null      object\n",
      " 15  SEXO              0 non-null      object\n",
      " 16  BAIRRO_CIDADAO    0 non-null      object\n",
      " 17  REGIONAL_CIDADAO  0 non-null      object\n",
      " 18  DATA_NASC         0 non-null      object\n",
      " 19  TIPO_CIDADAO      0 non-null      object\n",
      " 20  ORGAO_RESP        0 non-null      object\n",
      " 21  RESPOSTA_FINAL    0 non-null      object\n",
      " 22  GEOM              0 non-null      object\n",
      "dtypes: object(23)\n",
      "memory usage: 0.0+ bytes\n"
     ]
    }
   ],
   "source": [
    "# lê o arquivo CSV\n",
    "df_resultado = pd.read_csv('inundacao156.csv', sep=';')\n",
    "\n",
    "#2021\n",
    "#df = pd.read_csv('Dados156Brutos/2021/2021-03-01_156.csv', error_bad_lines=False, sep=';',encoding = \"latin-1\",skiprows=[0,1],names=list('abcdefghijklmnopqrstuv'))\n",
    "#df = pd.read_csv('Dados156Brutos/2021/2021-02-01_156_-_Base_de_Dados.csv', error_bad_lines=False, sep=';',encoding = \"latin-1\",skiprows=[0,1],names=list('abcdefghijklmnopqrstuv'))\n",
    "#df = pd.read_csv('Dados156Brutos/2021/2021-01-01_156_-_Base_de_Dados.csv', error_bad_lines=False, sep=';',encoding = \"latin-1\",skiprows=[0,1],names=list('abcdefghijklmnopqrstuv'))\n",
    "\n",
    "#2020\n",
    "#df = pd.read_csv('Dados156Brutos/2020/2020-12-01_156_-_Base_de_Dados.csv', error_bad_lines=False, sep=';',encoding = \"latin-1\",skiprows=[0,1],names=list('abcdefghijklmnopqrstuv'))\n",
    "#df = pd.read_csv('Dados156Brutos/2020/2020-11-01_156_-_Base_de_Dados.csv', error_bad_lines=False, sep=';',encoding = \"latin-1\",skiprows=[0,1],names=list('abcdefghijklmnopqrstuv'))\n",
    "#df = pd.read_csv('Dados156Brutos/2020/2020-10-01_156_-_Base_de_Dados.csv', error_bad_lines=False, sep=';',encoding = \"latin-1\",skiprows=[0,1],names=list('abcdefghijklmnopqrstuv'))\n",
    "#df = pd.read_csv('Dados156Brutos/2020/2020-09-01_156_-_Base_de_Dados.csv', error_bad_lines=False, sep=';',encoding = \"latin-1\",skiprows=[0,1],names=list('abcdefghijklmnopqrstuv'))\n",
    "#df = pd.read_csv('Dados156Brutos/2020/2020-08-01_156_-_Base_de_Dados.csv', error_bad_lines=False, sep=';',encoding = \"latin-1\",skiprows=[0,1],names=list('abcdefghijklmnopqrstuv'))\n",
    "#df = pd.read_csv('Dados156Brutos/2020/2020-07-01_156_-_Base_de_Dados.csv', error_bad_lines=False, sep=';',encoding = \"latin-1\",skiprows=[0,1],names=list('abcdefghijklmnopqrstuv'))\n",
    "#df = pd.read_csv('Dados156Brutos/2020/2020-06-01_156_-_Base_de_Dados.csv', error_bad_lines=False, sep=';',encoding = \"latin-1\",skiprows=[0,1],names=list('abcdefghijklmnopqrstuv'))\n",
    "#df = pd.read_csv('Dados156Brutos/2020/2020-05-01_156_-_Base_de_Dados.csv', error_bad_lines=False, sep=';',encoding = \"latin-1\",skiprows=[0,1],names=list('abcdefghijklmnopqrstuv'))\n",
    "#df = pd.read_csv('Dados156Brutos/2020/2020-04-01_156_-_Base_de_Dados.csv', error_bad_lines=False, sep=';',encoding = \"latin-1\",skiprows=[0,1],names=list('abcdefghijklmnopqrstuv'))\n",
    "#df = pd.read_csv('Dados156Brutos/2020/2020-03-11_156_-_Base_de_Dados.csv', error_bad_lines=False, sep=';',encoding = \"latin-1\",skiprows=[0,1],names=list('abcdefghijklmnopqrstuv'))\n",
    "#df = pd.read_csv('Dados156Brutos/2020/2020-03-01_156_-_Base_de_Dados.csv', error_bad_lines=False, sep=';',encoding = \"latin-1\",skiprows=[0,1],names=list('abcdefghijklmnopqrstuv'))\n",
    "#df = pd.read_csv('Dados156Brutos/2020/2020-02-01_156_-_Base_de_Dados.csv', error_bad_lines=False, sep=';',encoding = \"latin-1\",skiprows=[0,1],names=list('abcdefghijklmnopqrstuv'))\n",
    "#df = pd.read_csv('Dados156Brutos/2020/2020-01-01_156_-_Base_de_Dados.csv', error_bad_lines=False, sep=';',encoding = \"latin-1\",skiprows=[0,1],names=list('abcdefghijklmnopqrstuv'))\n",
    "\n",
    "#2019\n",
    "#df = pd.read_csv('Dados156Brutos/2019/2019-12-01_156_-_Base_de_Dados.csv', error_bad_lines=False, sep=';',encoding = \"latin-1\",skiprows=[0,1],names=list('abcdefghijklmnopqrstuv'))\n",
    "#df = pd.read_csv('Dados156Brutos/2019/2019-11-01_156_-_Base_de_Dados.csv', error_bad_lines=False, sep=';',encoding = \"latin-1\",skiprows=[0,1],names=list('abcdefghijklmnopqrstuv'))\n",
    "#df = pd.read_csv('Dados156Brutos/2019/2019-10-01_156_-_Base_de_Dados.csv', error_bad_lines=False, sep=';',encoding = \"latin-1\",skiprows=[0,1],names=list('abcdefghijklmnopqrstuv'))\n",
    "#df = pd.read_csv('Dados156Brutos/2019/2019-09-01_156_-_Base_de_Dados.csv', error_bad_lines=False, sep=';',encoding = \"latin-1\",skiprows=[0,1],names=list('abcdefghijklmnopqrstuv'))\n",
    "#df = pd.read_csv('Dados156Brutos/2019/2019-08-01_156_-_Base_de_Dados.csv', error_bad_lines=False, sep=';',encoding = \"latin-1\",skiprows=[0,1],names=list('abcdefghijklmnopqrstuv'))\n",
    "#df = pd.read_csv('Dados156Brutos/2019/2019-07-01_156_-_Base_de_Dados.csv', error_bad_lines=False, sep=';',encoding = \"latin-1\",skiprows=[0,1],names=list('abcdefghijklmnopqrstuv'))\n",
    "#df = pd.read_csv('Dados156Brutos/2019/2019-06-01_156_-_Base_de_Dados.csv', error_bad_lines=False, sep=';',encoding = \"latin-1\",skiprows=[0,1],names=list('abcdefghijklmnopqrstuv'))\n",
    "#df = pd.read_csv('Dados156Brutos/2019/2019-05-01_156_-_Base_de_Dados.csv', error_bad_lines=False, sep=';',encoding = \"latin-1\",skiprows=[0,1],names=list('abcdefghijklmnopqrstuv'))\n",
    "#df = pd.read_csv('Dados156Brutos/2019/2019-04-01_156_-_Base_de_Dados.csv', error_bad_lines=False, sep=';',encoding = \"latin-1\",skiprows=[0,1],names=list('abcdefghijklmnopqrstuv'))\n",
    "#df = pd.read_csv('Dados156Brutos/2019/2019-03-01_156_-_Base_de_Dados.csv', error_bad_lines=False, sep=';',encoding = \"latin-1\",skiprows=[0,1],names=list('abcdefghijklmnopqrstuv'))\n",
    "#df = pd.read_csv('Dados156Brutos/2019/2019-02-01_156_-_Base_de_Dados.csv', error_bad_lines=False, sep=';',encoding = \"latin-1\",skiprows=[0,1],names=list('abcdefghijklmnopqrstuv'))\n",
    "#df = pd.read_csv('Dados156Brutos/2019/2019-01-01_156_-_Base_de_Dados.csv', error_bad_lines=False, sep=';',encoding = \"latin-1\",skiprows=[0,1],names=list('abcdefghijklmnopqrstuv'))\n",
    "\n",
    "#2018\n",
    "#df = pd.read_csv('Dados156Brutos/2018/2018-12-01_156_-_Base_de_Dados.csv', error_bad_lines=False, sep=';',encoding = \"latin-1\",skiprows=[0,1],names=list('abcdefghijklmnopqrstuv'))\n",
    "#df = pd.read_csv('Dados156Brutos/2018/2018-11-01_156_-_Base_de_Dados.csv', error_bad_lines=False, sep=';',encoding = \"latin-1\",skiprows=[0,1],names=list('abcdefghijklmnopqrstuv'))\n",
    "#df = pd.read_csv('Dados156Brutos/2018/2018-10-01_156_-_Base_de_Dados.csv', error_bad_lines=False, sep=';',encoding = \"latin-1\",skiprows=[0,1],names=list('abcdefghijklmnopqrstuv'))\n",
    "#df = pd.read_csv('Dados156Brutos/2018/2018-09-01_156_-_Base_de_Dados.csv', error_bad_lines=False, sep=';',encoding = \"latin-1\",skiprows=[0,1],names=list('abcdefghijklmnopqrstuv'))\n",
    "#df = pd.read_csv('Dados156Brutos/2018/2018-08-01_156_-_Base_de_Dados.csv', error_bad_lines=False, sep=';',encoding = \"latin-1\",skiprows=[0,1],names=list('abcdefghijklmnopqrstuv'))\n",
    "#df = pd.read_csv('Dados156Brutos/2018/2018-07-01_156_-_Base_de_Dados.csv', error_bad_lines=False, sep=';',encoding = \"latin-1\",skiprows=[0,1],names=list('abcdefghijklmnopqrstuv'))\n",
    "#df = pd.read_csv('Dados156Brutos/2018/2018-06-01_156_-_Base_de_Dados.csv', error_bad_lines=False, sep=';',encoding = \"latin-1\",skiprows=[0,1],names=list('abcdefghijklmnopqrstuv'))\n",
    "#df = pd.read_csv('Dados156Brutos/2018/2018-05-01_156_-_Base_de_Dados.csv', error_bad_lines=False, sep=';',encoding = \"latin-1\",skiprows=[0,1],names=list('abcdefghijklmnopqrstuv'))\n",
    "#df = pd.read_csv('Dados156Brutos/2018/2018-04-26_156_-_Base_de_Dados.csv', error_bad_lines=False, sep=';',encoding = \"latin-1\",skiprows=[0,1],names=list('abcdefghijklmnopqrstuv'))\n",
    "#df = pd.read_csv('Dados156Brutos/2018/2018-04-01_156_-_Base_de_Dados.csv', error_bad_lines=False, sep=';',encoding = \"latin-1\",skiprows=[0,1],names=list('abcdefghijklmnopqrstuv'))\n",
    "#df = pd.read_csv('Dados156Brutos/2018/2018-03-01_156_-_Base_de_Dados.csv', error_bad_lines=False, sep=';',encoding = \"latin-1\",skiprows=[0,1],names=list('abcdefghijklmnopqrstuv'))\n",
    "#df = pd.read_csv('Dados156Brutos/2018/2018-02-01_156_-_Base_de_Dados.csv', error_bad_lines=False, sep=';',encoding = \"latin-1\",skiprows=[0,1],names=list('abcdefghijklmnopqrstuv'))\n",
    "#df = pd.read_csv('Dados156Brutos/2018/2018-01-01_156_-_Base_de_Dados.csv', error_bad_lines=False, sep=';',encoding = \"latin-1\",skiprows=[0,1],names=list('abcdefghijklmnopqrstuv'))\n",
    "\n",
    "#2017\n",
    "#df = pd.read_csv('Dados156Brutos/2017/2017-12-01_156_-_Base_de_Dados.csv', error_bad_lines=False, sep=';',encoding = \"latin-1\",skiprows=[0,1],names=list('abcdefghijklmnopqrstuv'))\n",
    "#df = pd.read_csv('Dados156Brutos/2017/2017-11-01_156_-_Base_de_Dados.csv', error_bad_lines=False, sep=';',encoding = \"latin-1\",skiprows=[0,1],names=list('abcdefghijklmnopqrstuv'))\n",
    "#df = pd.read_csv('Dados156Brutos/2017/2017-10-01_156_-_Base_de_Dados.csv', error_bad_lines=False, sep=';',encoding = \"latin-1\",skiprows=[0,1],names=list('abcdefghijklmnopqrstuv'))\n",
    "#df = pd.read_csv('Dados156Brutos/2017/2017-09-01_156_-_Base_de_Dados.csv', error_bad_lines=False, sep=';',encoding = \"latin-1\",skiprows=[0,1],names=list('abcdefghijklmnopqrstuv'))\n",
    "#df = pd.read_csv('Dados156Brutos/2017/2017-08-01_156_-_Base_de_Dados.csv', error_bad_lines=False, sep=';',encoding = \"latin-1\",skiprows=[0,1],names=list('abcdefghijklmnopqrstuv'))\n",
    "#df = pd.read_csv('Dados156Brutos/2017/2017-07-01_156_-_Base_de_Dados.csv', error_bad_lines=False, sep=';',encoding = \"latin-1\",skiprows=[0,1],names=list('abcdefghijklmnopqrstuv'))\n",
    "#df = pd.read_csv('Dados156Brutos/2017/2017-06-01_156_-_Base_de_Dados.csv', error_bad_lines=False, sep=';',encoding = \"latin-1\",skiprows=[0,1],names=list('abcdefghijklmnopqrstuv'))\n",
    "#df = pd.read_csv('Dados156Brutos/2017/2017-04-01_156_-_Base_de_Dados.csv', error_bad_lines=False, sep=';',encoding = \"latin-1\",skiprows=[0,1],names=list('abcdefghijklmnopqrstuv'))\n",
    "#df = pd.read_csv('Dados156Brutos/2017/2017-03-01_156_-_Base_de_Dados.csv', error_bad_lines=False, sep=';',encoding = \"latin-1\",skiprows=[0,1],names=list('abcdefghijklmnopqrstuv'))\n",
    "#df = pd.read_csv('Dados156Brutos/2017/2017-02-01_156_-_Base_de_Dados.csv', error_bad_lines=False, sep=';',encoding = \"latin-1\",skiprows=[0,1],names=list('abcdefghijklmnopqrstuv'))\n",
    "#df = pd.read_csv('Dados156Brutos/2017/2017-01-01_156_-_Base_de_Dados.csv', error_bad_lines=False, sep=';',encoding = \"latin-1\",skiprows=[0,1],names=list('abcdefghijklmnopqrstuv'))\n",
    "\n",
    "#2016\n",
    "#df = pd.read_csv('Dados156Brutos/2016/2016-12-01_156_-_Base_de_Dados.csv', error_bad_lines=False, sep=';',encoding = \"latin-1\",skiprows=[0,1],names=list('abcdefghijklmnopqrstuv'))\n",
    "#df = pd.read_csv('Dados156Brutos/2016/2016-11-01_156_-_Base_de_Dados.csv', error_bad_lines=False, sep=';',encoding = \"latin-1\",skiprows=[0,1],names=list('abcdefghijklmnopqrstuv'))\n",
    "#df = pd.read_csv('Dados156Brutos/2016/2016-10-01_156_-_Base_de_Dados.csv', error_bad_lines=False, sep=';',encoding = \"latin-1\",skiprows=[0,1],names=list('abcdefghijklmnopqrstuv'))\n",
    "#df = pd.read_csv('Dados156Brutos/2016/2016-09-01_156_-_Base_de_Dados.csv', error_bad_lines=False, sep=';',encoding = \"latin-1\",skiprows=[0,1],names=list('abcdefghijklmnopqrstuv'))\n",
    "\n",
    "df_resultado.info()"
   ]
  },
  {
   "cell_type": "code",
   "execution_count": 383,
   "metadata": {},
   "outputs": [],
   "source": [
    "# Algumas tuplas tiveram problemas na separação de colunas e acabaram tendo 2 a mais, \n",
    "# sendo assim, adicionei 2 colunas a mais 'STATUS_FINAL' e 'AGORA_VAI', unicamente\n",
    "# para retirar do dataframe\n",
    "df.columns = ['SOLICITACAO', 'TIPO', 'ORGAO', 'DATA', 'HORARIO', 'ASSUNTO', 'SUBDIVISAO',\n",
    " 'DESCRICAO', 'LOGRADOURO_ASS', 'BAIRRO_ASS', 'REGIONAL_ASS', 'MEIO_RESPOSTA',\n",
    " 'OBSERVACAO', 'SEXO', 'BAIRRO_CIDADAO', 'REGIONAL_CIDADAO', 'DATA_NASC',\n",
    " 'TIPO_CIDADAO', 'ORGAO_RESP', 'RESPOSTA_FINAL', 'STATUS_FINAL', 'AGORA_VAI']"
   ]
  },
  {
   "cell_type": "code",
   "execution_count": 384,
   "metadata": {
    "scrolled": true
   },
   "outputs": [
    {
     "name": "stdout",
     "output_type": "stream",
     "text": [
      "<class 'pandas.core.frame.DataFrame'>\n",
      "RangeIndex: 81665 entries, 0 to 81664\n",
      "Data columns (total 22 columns):\n",
      " #   Column            Non-Null Count  Dtype  \n",
      "---  ------            --------------  -----  \n",
      " 0   SOLICITACAO       81665 non-null  int64  \n",
      " 1   TIPO              81665 non-null  object \n",
      " 2   ORGAO             81665 non-null  object \n",
      " 3   DATA              81665 non-null  object \n",
      " 4   HORARIO           81665 non-null  object \n",
      " 5   ASSUNTO           81665 non-null  object \n",
      " 6   SUBDIVISAO        81665 non-null  object \n",
      " 7   DESCRICAO         81665 non-null  object \n",
      " 8   LOGRADOURO_ASS    81665 non-null  object \n",
      " 9   BAIRRO_ASS        81664 non-null  object \n",
      " 10  REGIONAL_ASS      81614 non-null  object \n",
      " 11  MEIO_RESPOSTA     81665 non-null  object \n",
      " 12  OBSERVACAO        43619 non-null  object \n",
      " 13  SEXO              81665 non-null  object \n",
      " 14  BAIRRO_CIDADAO    79568 non-null  object \n",
      " 15  REGIONAL_CIDADAO  77831 non-null  object \n",
      " 16  DATA_NASC         81665 non-null  object \n",
      " 17  TIPO_CIDADAO      81665 non-null  object \n",
      " 18  ORGAO_RESP        81665 non-null  object \n",
      " 19  RESPOSTA_FINAL    81665 non-null  object \n",
      " 20  STATUS_FINAL      0 non-null      float64\n",
      " 21  AGORA_VAI         0 non-null      float64\n",
      "dtypes: float64(2), int64(1), object(19)\n",
      "memory usage: 13.7+ MB\n"
     ]
    }
   ],
   "source": [
    "df.info()"
   ]
  },
  {
   "cell_type": "code",
   "execution_count": 385,
   "metadata": {
    "scrolled": false
   },
   "outputs": [],
   "source": [
    "#pd.set_option(\"max_columns\", None) # show all cols\n",
    "#pd.set_option('max_colwidth', None) # show full width of showing cols\n",
    "#pd.set_option(\"expand_frame_repr\", False) # print cols side by side as it's supposed to be"
   ]
  },
  {
   "cell_type": "markdown",
   "metadata": {},
   "source": [
    "Visto que as 2 ultimas colunas não sao listadas no dicionario de dados oficial e as anotações presentes não acrescentam com o objetivo da pesquisa irei retira-las do dataframe"
   ]
  },
  {
   "cell_type": "code",
   "execution_count": 386,
   "metadata": {},
   "outputs": [],
   "source": [
    "df = df.drop(columns=['STATUS_FINAL'])\n",
    "df = df.drop(columns=['AGORA_VAI'])"
   ]
  },
  {
   "cell_type": "code",
   "execution_count": 387,
   "metadata": {},
   "outputs": [
    {
     "name": "stdout",
     "output_type": "stream",
     "text": [
      "<class 'pandas.core.frame.DataFrame'>\n",
      "Int64Index: 3847 entries, 2099 to 81591\n",
      "Data columns (total 20 columns):\n",
      " #   Column            Non-Null Count  Dtype \n",
      "---  ------            --------------  ----- \n",
      " 0   SOLICITACAO       3847 non-null   int64 \n",
      " 1   TIPO              3847 non-null   object\n",
      " 2   ORGAO             3847 non-null   object\n",
      " 3   DATA              3847 non-null   object\n",
      " 4   HORARIO           3847 non-null   object\n",
      " 5   ASSUNTO           3847 non-null   object\n",
      " 6   SUBDIVISAO        3847 non-null   object\n",
      " 7   DESCRICAO         3847 non-null   object\n",
      " 8   LOGRADOURO_ASS    3847 non-null   object\n",
      " 9   BAIRRO_ASS        3847 non-null   object\n",
      " 10  REGIONAL_ASS      3847 non-null   object\n",
      " 11  MEIO_RESPOSTA     3847 non-null   object\n",
      " 12  OBSERVACAO        1702 non-null   object\n",
      " 13  SEXO              3847 non-null   object\n",
      " 14  BAIRRO_CIDADAO    3845 non-null   object\n",
      " 15  REGIONAL_CIDADAO  3791 non-null   object\n",
      " 16  DATA_NASC         3847 non-null   object\n",
      " 17  TIPO_CIDADAO      3847 non-null   object\n",
      " 18  ORGAO_RESP        3847 non-null   object\n",
      " 19  RESPOSTA_FINAL    3847 non-null   object\n",
      "dtypes: int64(1), object(19)\n",
      "memory usage: 631.1+ KB\n"
     ]
    }
   ],
   "source": [
    "# Como estou limitado pelo seviço que coleta LatLng, irei filtrar assuntos que podem abordar o tema que inundações\n",
    "filtro = ['MACRODRENAGEM','DRENAGEM','DRENAGEM - MATRIZ','FISCALIZAÇÃO DE FUNDO DE VALE (CÓRREGOS/VALAS)',\n",
    "          'PONTES DE MADEIRA','CORREÇÃO GEOMÉTRICA','ÁRVORE','LIMPEZA','FONTES E CHAFARIZES',\n",
    "          'ORIENTAÇÕES SANITÁRIAS PARA RESIDÊNCIAS','ARRUAMENTO']\n",
    "df = df[df['ASSUNTO'].isin(filtro)]\n",
    "df.info()\n"
   ]
  },
  {
   "cell_type": "code",
   "execution_count": 388,
   "metadata": {
    "scrolled": true
   },
   "outputs": [],
   "source": [
    "#teste = df\n",
    "#teste"
   ]
  },
  {
   "cell_type": "code",
   "execution_count": 389,
   "metadata": {
    "scrolled": true
   },
   "outputs": [],
   "source": [
    "for index, row in df.iterrows():\n",
    "    endereco =  row['LOGRADOURO_ASS'].split(',')\n",
    "    street = unidecode(endereco[0]).upper()\n",
    "    \n",
    "    #Procura a rua na tabela de ceps de curitiba\n",
    "    achou = df_ceps['LOGRADOURO'].str.find(street)\n",
    "    pos = achou.argmax()\n",
    "    cep = df_ceps.loc[pos]['CEP']\n",
    "    logradouro = df_ceps.loc[pos]['LOGRADOURO'].strip()\n",
    "    neighborhood = df_ceps.loc[pos]['BAIRRO'].strip()\n",
    "    \n",
    "    ocorrencia = {\n",
    "   \t'SOLICITACAO': row['SOLICITACAO'],\n",
    "\t'TIPO': row['TIPO'],\n",
    "\t'ORGAO': row['ORGAO'],\n",
    "\t'DATA_ASS': row['DATA'].strip(),\n",
    "\t'HORARIO': row['HORARIO'].strip(),\n",
    "\t'ASSUNTO': row['ASSUNTO'],\n",
    "\t'SUBDIVISAO': row['SUBDIVISAO'],\n",
    "\t'DESCRICAO': row['DESCRICAO'],\n",
    "\t'LOGRADOURO_ASS': logradouro,\n",
    "\t'CEP_ASS': cep,\n",
    "\t'NUMERO_ASS': endereco[1].strip(),\n",
    "\t'BAIRRO_ASS': neighborhood,\n",
    "\t'REGIONAL_ASS': row['REGIONAL_ASS'],\n",
    "\t'MEIO_RESPOSTA': row['MEIO_RESPOSTA'],\n",
    "\t'OBSERVACAO': row['OBSERVACAO'],\n",
    "\t'SEXO': row['SEXO'],\n",
    "\t'BAIRRO_CIDADAO': row['BAIRRO_CIDADAO'],\n",
    "\t'REGIONAL_CIDADAO': row['REGIONAL_CIDADAO'],\n",
    "\t'DATA_NASC': row['DATA_NASC'].strip(),\n",
    "\t'TIPO_CIDADAO': row['TIPO_CIDADAO'],\n",
    "\t'ORGAO_RESP': row['ORGAO_RESP'],\n",
    "\t'RESPOSTA_FINAL': row['RESPOSTA_FINAL']\n",
    "    }    \n",
    "    #print(ocorrencia)\n",
    "    df_resultado = df_resultado.append(ocorrencia, ignore_index=True)\n",
    "    "
   ]
  },
  {
   "cell_type": "code",
   "execution_count": 390,
   "metadata": {},
   "outputs": [],
   "source": [
    "# Atualiza o arquivo csv com os dados da ultima tabela\n",
    "df_resultado.to_csv('Resultado/inundacao156.csv', sep=';', mode = 'a', header = False, index=False)\n"
   ]
  },
  {
   "cell_type": "code",
   "execution_count": null,
   "metadata": {},
   "outputs": [],
   "source": [
    "# mode = 'a' will append the information. Programiz has a nice bit on this if you're interested in reading more. \n",
    "# header = False will prevent the headers from being written to your file, which would come along with a Nan value for the row."
   ]
  }
 ],
 "metadata": {
  "kernelspec": {
   "display_name": "Python 3",
   "language": "python",
   "name": "python3"
  },
  "language_info": {
   "codemirror_mode": {
    "name": "ipython",
    "version": 3
   },
   "file_extension": ".py",
   "mimetype": "text/x-python",
   "name": "python",
   "nbconvert_exporter": "python",
   "pygments_lexer": "ipython3",
   "version": "3.8.5"
  }
 },
 "nbformat": 4,
 "nbformat_minor": 4
}
